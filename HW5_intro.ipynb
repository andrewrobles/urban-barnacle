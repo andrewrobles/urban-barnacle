{
 "cells": [
  {
   "cell_type": "markdown",
   "metadata": {
    "id": "NxEb8fS9sgmA"
   },
   "source": [
    "## getting started"
   ]
  },
  {
   "cell_type": "code",
   "execution_count": 2,
   "metadata": {
    "colab": {
     "base_uri": "https://localhost:8080/"
    },
    "id": "ikfBkERSqys9",
    "outputId": "161e5f91-3d03-4630-9db2-e8e1a79c9932"
   },
   "outputs": [
    {
     "name": "stdout",
     "output_type": "stream",
     "text": [
      "Columbia\n",
      "<class 'str'>\n"
     ]
    }
   ],
   "source": [
    "# variables\n",
    "# : containers to store values\n",
    "\n",
    "x = \"Columbia\"\n",
    "print(x)\n",
    "print(type(x))\n",
    "\n",
    "# x = 5\n",
    "# print(x)\n",
    "# print(type(x))\n"
   ]
  },
  {
   "cell_type": "code",
   "execution_count": 3,
   "metadata": {
    "colab": {
     "base_uri": "https://localhost:8080/"
    },
    "id": "R_C0ywFrrZlt",
    "outputId": "e0cad836-e3e7-4e28-a9db-ab2b7a6e242d"
   },
   "outputs": [
    {
     "name": "stdout",
     "output_type": "stream",
     "text": [
      "['apple', 'orange', 'banana']\n",
      "3\n",
      "banana\n"
     ]
    }
   ],
   "source": [
    "# lists\n",
    "# : container to store multiple values \n",
    "\n",
    "x = [\"apple\", \"orange\", \"banana\"]\n",
    "print(x)\n",
    "\n",
    "# get length of list\n",
    "print(len(x))\n",
    "\n",
    "# get an element of list \n",
    "print(x[2])"
   ]
  },
  {
   "cell_type": "code",
   "execution_count": 4,
   "metadata": {
    "colab": {
     "base_uri": "https://localhost:8080/"
    },
    "id": "EJHmustEsB3e",
    "outputId": "3b0089eb-ef2e-406f-caad-18a5013c5d6e"
   },
   "outputs": [
    {
     "name": "stdout",
     "output_type": "stream",
     "text": [
      "15\n",
      "20\n",
      "25\n"
     ]
    }
   ],
   "source": [
    "# for loops\n",
    "# : iterate over elements in a list \n",
    "\n",
    "thislist = [5,10,15]\n",
    "\n",
    "for x in thislist:\n",
    "\n",
    "  y = x + 10\n",
    "  print(y)"
   ]
  },
  {
   "cell_type": "code",
   "execution_count": 5,
   "metadata": {
    "colab": {
     "base_uri": "https://localhost:8080/"
    },
    "id": "YyCTtUgKtOl8",
    "outputId": "bb81bada-0348-4f11-cbc6-6d59f043fe6e"
   },
   "outputs": [
    {
     "data": {
      "text/plain": [
       "7.5"
      ]
     },
     "execution_count": 5,
     "metadata": {},
     "output_type": "execute_result"
    }
   ],
   "source": [
    "# functions\n",
    "# : blocks of code that runs when called\n",
    "\n",
    "def add_10(x):\n",
    "\n",
    "  # code to implement\n",
    "  y = x + 10\n",
    "  z = y / 2\n",
    "\n",
    "  # return result\n",
    "  return z \n",
    "\n",
    "# run function here\n",
    "add_10(5)\n"
   ]
  },
  {
   "cell_type": "markdown",
   "metadata": {
    "id": "_ag9Xpd_t9L4"
   },
   "source": [
    "## useful libraries\n",
    "Libraries are useful functions that have been written by others so that you do not need to write the code from scratch"
   ]
  },
  {
   "cell_type": "code",
   "execution_count": 7,
   "metadata": {
    "id": "3SkrrXumt--v"
   },
   "outputs": [],
   "source": [
    "# import libraries\n",
    "\n",
    "import numpy as np \n",
    "import scipy.stats as sp \n",
    "import matplotlib.pyplot as plt"
   ]
  },
  {
   "cell_type": "code",
   "execution_count": 8,
   "metadata": {
    "colab": {
     "base_uri": "https://localhost:8080/"
    },
    "id": "0u9-ivWUuX_d",
    "outputId": "c403d1bd-76c7-48b8-aabf-700a924abc65"
   },
   "outputs": [
    {
     "name": "stdout",
     "output_type": "stream",
     "text": [
      "[-1.19798536 -1.37177413  1.28186999  0.23821939  0.80484547 -0.61094794\n",
      "  0.31431567 -0.23184327 -0.27486756  0.62242636]\n"
     ]
    }
   ],
   "source": [
    "# sample from a normal distribution\n",
    "\n",
    "mean_ = 0\n",
    "sdev_ = 1\n",
    "\n",
    "n_samples = 10\n",
    "s = np.random.normal(loc = mean_, \n",
    "                     scale = sdev_, \n",
    "                     size=n_samples)\n",
    "print(s)"
   ]
  },
  {
   "cell_type": "code",
   "execution_count": 9,
   "metadata": {
    "colab": {
     "base_uri": "https://localhost:8080/",
     "height": 265
    },
    "id": "kU_4HgIbvlBK",
    "outputId": "e696d470-7beb-462e-f2a0-13ecc3cf66a2"
   },
   "outputs": [
    {
     "data": {
      "image/png": "[encoded data removed]",
      "text/plain": [
       "<Figure size 432x288 with 1 Axes>"
      ]
     },
     "metadata": {
      "needs_background": "light"
     },
     "output_type": "display_data"
    }
   ],
   "source": [
    "# plot the cdf of a normal distribution\n",
    "\n",
    "mean_, sdev_ = 0, 1\n",
    "n_samples = 10000\n",
    "s = np.random.normal(loc = mean_, \n",
    "                     scale = sdev_, \n",
    "                     size=n_samples)\n",
    "\n",
    "_ = plt.hist(s, bins=100, cumulative=True, density=True)"
   ]
  },
  {
   "cell_type": "code",
   "execution_count": 10,
   "metadata": {
    "colab": {
     "base_uri": "https://localhost:8080/"
    },
    "id": "dIHogelvwgGA",
    "outputId": "f996ff74-960d-4665-c1fb-00cbf7d60afe"
   },
   "outputs": [
    {
     "name": "stdout",
     "output_type": "stream",
     "text": [
      "-1.6448536269514729\n"
     ]
    }
   ],
   "source": [
    "# inverse cdf function\n",
    "\n",
    "# borrowers defaults with 5 percent probability\n",
    "# borrower's income is drawn from N(0,1) distribution.\n",
    "# default if income less than x \n",
    "# what is x? \n",
    "\n",
    "p = 0.05\n",
    "x = sp.norm.ppf(p, 0, 1)\n",
    "print(x)\n"
   ]
  },
  {
   "cell_type": "markdown",
   "metadata": {
    "id": "sxV7YgTTz1ql"
   },
   "source": [
    "## an example\n",
    "\n",
    "an investor lends 10 borrowers 1 dollar each.\n",
    "\n",
    "Each borrower's income is drawn from iid N(0,1).\n",
    "\n",
    "Borrower defaults if income less than -1.65.\n",
    "\n",
    "If don't default, pay investor 1 dollars.\n",
    "\n",
    "If default, pay investor 0."
   ]
  },
  {
   "cell_type": "code",
   "execution_count": 11,
   "metadata": {
    "id": "H5u5MFLX2OAe"
   },
   "outputs": [],
   "source": [
    "# parameters of the problem\n",
    "\n",
    "n_borrowers = 10\n",
    "mean_income = 0\n",
    "sdev_income = 1\n",
    "threshold = -1.65\n"
   ]
  },
  {
   "cell_type": "code",
   "execution_count": 12,
   "metadata": {
    "colab": {
     "base_uri": "https://localhost:8080/"
    },
    "id": "w0QYwhQ5z6Z6",
    "outputId": "20c4c8d8-db6d-4557-80dd-e84b5ab14f75"
   },
   "outputs": [
    {
     "name": "stdout",
     "output_type": "stream",
     "text": [
      "[ 0.2220027   0.52357055  0.91622495 -0.70081779 -2.47160784 -1.71148782\n",
      " -0.82486301 -0.7175521   0.23854202 -0.30169297]\n"
     ]
    }
   ],
   "source": [
    "# assume the following realization of income\n",
    "\n",
    "income = np.random.normal(loc=mean_income, \n",
    "                          scale=sdev_income, \n",
    "                          size=n_borrowers)\n",
    "print(income)\n"
   ]
  },
  {
   "cell_type": "code",
   "execution_count": 13,
   "metadata": {
    "colab": {
     "base_uri": "https://localhost:8080/"
    },
    "id": "boc-5Fyc2eto",
    "outputId": "c0a69be8-39bd-48d1-e022-757344c3214f"
   },
   "outputs": [
    {
     "name": "stdout",
     "output_type": "stream",
     "text": [
      "[False False False False  True  True False False False False]\n",
      "[1 1 1 1 0 0 1 1 1 1]\n"
     ]
    }
   ],
   "source": [
    "# which borrower defaults?\n",
    "\n",
    "print(income < threshold)\n",
    "\n",
    "loan_payoff = (income < threshold) * 0 + (income >= threshold) * 1\n",
    "print(loan_payoff)"
   ]
  },
  {
   "cell_type": "code",
   "execution_count": 14,
   "metadata": {
    "colab": {
     "base_uri": "https://localhost:8080/"
    },
    "id": "bvmdTuZg2sSR",
    "outputId": "1f7d5d24-329f-45e2-fbd1-cc65aae04db3"
   },
   "outputs": [
    {
     "name": "stdout",
     "output_type": "stream",
     "text": [
      "8\n"
     ]
    }
   ],
   "source": [
    "# what is the investor's total payoff?\n",
    "\n",
    "total_payoff = np.sum(loan_payoff)\n",
    "print(total_payoff)"
   ]
  },
  {
   "cell_type": "markdown",
   "metadata": {
    "id": "6PJ3A_QL3bTO"
   },
   "source": [
    "now, suppose there are two investors. \n",
    "\n",
    "investor A funds 6 dollars, investor B funds 4 dollars.\n",
    "\n",
    "the investors agree to a 60:40 split of the loan payoffs.\n",
    "\n",
    "investor A is senior, so she gets paid first.\n",
    "\n",
    "investor B then gets paid the remainder."
   ]
  },
  {
   "cell_type": "code",
   "execution_count": 15,
   "metadata": {
    "colab": {
     "base_uri": "https://localhost:8080/"
    },
    "id": "isFisAml4OxJ",
    "outputId": "7eccb74b-6962-49d3-b160-265f4996f730"
   },
   "outputs": [
    {
     "name": "stdout",
     "output_type": "stream",
     "text": [
      "6.0\n"
     ]
    }
   ],
   "source": [
    "# how much does investor A get in return?\n",
    "\n",
    "a_payoff = min(.6 * 10, total_payoff)\n",
    "print(a_payoff)"
   ]
  },
  {
   "cell_type": "code",
   "execution_count": 16,
   "metadata": {
    "colab": {
     "base_uri": "https://localhost:8080/"
    },
    "id": "6vX5v-IE5AU2",
    "outputId": "c2a23193-49a3-4334-e02f-8af22707fcdd"
   },
   "outputs": [
    {
     "name": "stdout",
     "output_type": "stream",
     "text": [
      "2.0\n"
     ]
    }
   ],
   "source": [
    "# how much does investor B get in return?\n",
    "\n",
    "b_payoff = min(.4 * 10, total_payoff - a_payoff)\n",
    "print(b_payoff)"
   ]
  },
  {
   "cell_type": "markdown",
   "metadata": {
    "id": "jOGPcdYfS-Z8"
   },
   "source": [
    "## putting everything together\n",
    "this is an example for computing the payoffs to investor for one simulation"
   ]
  },
  {
   "cell_type": "code",
   "execution_count": 38,
   "metadata": {
    "colab": {
     "base_uri": "https://localhost:8080/"
    },
    "id": "IItyZjYixN8E",
    "outputId": "f7513e69-5cb3-4c56-8e88-e12254d5a203"
   },
   "outputs": [
    {
     "name": "stdout",
     "output_type": "stream",
     "text": [
      "total: 9.5, senior: 4.75, mezz: 2.85, junior: 1.9000000000000001\n",
      "total: 10.0, senior: 5.0, mezz: 3.0, junior: 2.0\n",
      "total: 10.0, senior: 5.0, mezz: 3.0, junior: 2.0\n"
     ]
    }
   ],
   "source": [
    "rho_list = [0, 0.5, 1] # you can try other values of rho\n",
    "\n",
    "# parameters (update using information given in problem set)\n",
    "n_borrowers = 10\n",
    "payoff_default = 0.5\n",
    "payoff_nodefault = 1\n",
    "threshold = -1.65\n",
    "\n",
    "# draw of income shocks (remember: you'll have to draw new values of s and eps for each simulation)\n",
    "s = np.random.normal(0,1,size=1) # common s for all borrowers\n",
    "eps = np.random.normal(0,1,size=n_borrowers) # each borrower has their own eps\n",
    "\n",
    "for rho in rho_list:\n",
    "\n",
    "  # compute the borrower's income\n",
    "  x = np.sqrt(rho) * s + np.sqrt(1-rho) * eps\n",
    "\n",
    "  # which borrower defaults?\n",
    "  loan_payoff = (x < threshold) * payoff_default + (x >= threshold) * payoff_nodefault\n",
    "\n",
    "  # total pool \n",
    "  total_payoff = np.sum(loan_payoff)\n",
    "\n",
    "  # how much does each investor receive from total_payoff?\n",
    "  senior_payoff = 0.5 * total_payoff # this is a placeholder - input the correct code here\n",
    "  mezz_payoff = 0.3 * total_payoff # this is a placeholder - input the correct code here\n",
    "  junior_payoff = 0.2 * total_payoff # this is a placeholder - input the correct code here\n",
    "\n",
    "  print('total: {}, senior: {}, mezz: {}, junior: {}'.format(total_payoff, senior_payoff, mezz_payoff, junior_payoff))\n",
    "\n",
    "# next steps\n",
    "# repeat this for 100 simulations and compute the average payoff to each investor\n",
    "# is it possible to generate the income for all simulations in one step? \n",
    "# hint: specify the \"size\" parameter in np.random.normal as a matrix"
   ]
  },
  {
   "cell_type": "code",
   "execution_count": 25,
   "metadata": {
    "id": "i2NXRt8CyB1u"
   },
   "outputs": [],
   "source": []
  },
  {
   "cell_type": "code",
   "execution_count": 68,
   "metadata": {},
   "outputs": [
    {
     "name": "stdout",
     "output_type": "stream",
     "text": [
      "Average payoff for senior: 6.2303999999999995\n",
      "Average payoff for mezz: 2.3364\n",
      "Average payoff for junior: 1.1682\n"
     ]
    }
   ],
   "source": [
    "rho_list = []\n",
    "\n",
    "for i in range(100):\n",
    "    rho_list.append(round(i * (1 / 100), 2))\n",
    "rho_list\n",
    "\n",
    "# parameters (update using information given in problem set)\n",
    "n_borrowers = 10\n",
    "payoff_default = 0.5\n",
    "payoff_nodefault = 1\n",
    "threshold = -1.65\n",
    "\n",
    "s = np.random.normal(0,1,size=1) # common s for all borrowers\n",
    "eps = np.random.normal(0,1,size=(100, n_borrowers)) # each borrower has their own eps\n",
    "\n",
    "simulation_count = 0\n",
    "senior_payoff_list = []\n",
    "mezz_payoff_list = []\n",
    "junior_payoff_list = []\n",
    "\n",
    "for i in range(100):\n",
    "    rho = rho_list[i]\n",
    "    \n",
    "#     print('\\nSIMULATION #{}'.format(simulation_count))\n",
    "    simulation_count += 1\n",
    "\n",
    "    # compute the borrower's income\n",
    "    x = np.sqrt(rho) * s + np.sqrt(1-rho) * eps[i]\n",
    "\n",
    "    # which borrower defaults?\n",
    "    loan_payoff = (x < threshold) * payoff_default + (x >= threshold) * payoff_nodefault\n",
    "\n",
    "    # total pool \n",
    "    total_payoff = np.sum(loan_payoff)\n",
    "\n",
    "    # how much does each investor receive from total_payoff?\n",
    "    senior_payoff = 0.64 * total_payoff # this is a placeholder - input the correct code here\n",
    "    mezz_payoff = 0.24 * total_payoff # this is a placeholder - input the correct code here\n",
    "    junior_payoff = 0.12 * total_payoff # this is a placeholder - input the correct code here\n",
    "    \n",
    "    senior_payoff_list.append(senior_payoff)\n",
    "    mezz_payoff_list.append(mezz_payoff)\n",
    "    junior_payoff_list.append(junior_payoff)\n",
    "    \n",
    "print('Average payoff for senior: {}'.format(np.mean(senior_payoff_list)))\n",
    "print('Average payoff for mezz: {}'.format(np.mean(mezz_payoff_list)))\n",
    "print('Average payoff for junior: {}'.format(np.mean(junior_payoff_list)))\n"
   ]
  },
  {
   "cell_type": "code",
   "execution_count": 69,
   "metadata": {},
   "outputs": [
    {
     "data": {
      "image/png": "[encoded data removed]",
      "text/plain": [
       "<Figure size 432x288 with 1 Axes>"
      ]
     },
     "metadata": {
      "needs_background": "light"
     },
     "output_type": "display_data"
    }
   ],
   "source": [
    "y_values = senior_payoff_list\n",
    "_ = plt.hist(y_values, bins=100, cumulative=True, density=True)"
   ]
  },
  {
   "cell_type": "code",
   "execution_count": 70,
   "metadata": {},
   "outputs": [
    {
     "data": {
      "image/png": "[encoded data removed]",
      "text/plain": [
       "<Figure size 432x288 with 1 Axes>"
      ]
     },
     "metadata": {
      "needs_background": "light"
     },
     "output_type": "display_data"
    }
   ],
   "source": [
    "y_values = mezz_payoff_list\n",
    "_ = plt.hist(y_values, bins=100, cumulative=True, density=True)"
   ]
  },
  {
   "cell_type": "code",
   "execution_count": 71,
   "metadata": {},
   "outputs": [
    {
     "data": {
      "image/png": "[encoded data removed]",
      "text/plain": [
       "<Figure size 432x288 with 1 Axes>"
      ]
     },
     "metadata": {
      "needs_background": "light"
     },
     "output_type": "display_data"
    }
   ],
   "source": [
    "y_values = junior_payoff_list\n",
    "_ = plt.hist(y_values, bins=100, cumulative=True, density=True)"
   ]
  },
  {
   "cell_type": "code",
   "execution_count": null,
   "metadata": {},
   "outputs": [],
   "source": []
  }
 ],
 "metadata": {
  "colab": {
   "name": "HW5_intro.ipynb",
   "provenance": []
  },
  "kernelspec": {
   "display_name": "Python 3",
   "language": "python",
   "name": "python3"
  },
  "language_info": {
   "codemirror_mode": {
    "name": "ipython",
    "version": 3
   },
   "file_extension": ".py",
   "mimetype": "text/x-python",
   "name": "python",
   "nbconvert_exporter": "python",
   "pygments_lexer": "ipython3",
   "version": "3.9.2"
  }
 },
 "nbformat": 4,
 "nbformat_minor": 1
}
